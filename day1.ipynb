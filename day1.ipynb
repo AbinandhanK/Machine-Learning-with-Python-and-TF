{
  "nbformat": 4,
  "nbformat_minor": 0,
  "metadata": {
    "colab": {
      "provenance": [],
      "authorship_tag": "ABX9TyPMKC5SFVNPukZafvDkSwL6"
    },
    "kernelspec": {
      "name": "python3",
      "display_name": "Python 3"
    },
    "language_info": {
      "name": "python"
    }
  },
  "cells": [
    {
      "cell_type": "code",
      "execution_count": null,
      "metadata": {
        "colab": {
          "base_uri": "https://localhost:8080/"
        },
        "id": "YBwirEM9nczc",
        "outputId": "c8389c01-35f8-4539-c545-301a51dd0ada"
      },
      "outputs": [
        {
          "output_type": "stream",
          "name": "stdout",
          "text": [
            "tf.Tensor(2, shape=(), dtype=int32)\n"
          ]
        }
      ],
      "source": [
        "import tensorflow as tf\n",
        "rank1_tensor=tf.Variable([[\"Hello\",\"Hi\", \"Greetings\"],[\"Python\",\"C\",\"C++\"]])\n",
        "print(tf.rank(rank1_tensor))"
      ]
    },
    {
      "cell_type": "code",
      "source": [
        "import tensorflow as tf\n",
        "rank2_tensor=tf.Variable([[\"Cat\", \"Dog\", \"Fish\"],[\"Pet1\",\"Pet2\",\"Pet3\"]])\n",
        "print(rank2_tensor.shape)"
      ],
      "metadata": {
        "colab": {
          "base_uri": "https://localhost:8080/"
        },
        "id": "caUEbnkGo2LR",
        "outputId": "668aeda4-8a42-4fe4-b6f3-a66fbfe9d0d2"
      },
      "execution_count": null,
      "outputs": [
        {
          "output_type": "stream",
          "name": "stdout",
          "text": [
            "(2, 3)\n"
          ]
        }
      ]
    },
    {
      "cell_type": "code",
      "source": [
        "import tensorflow as tf\n",
        "rank1_tensor=tf.ones([2,5])\n",
        "tf.reshape(rank1_tensor,[5,2])"
      ],
      "metadata": {
        "colab": {
          "base_uri": "https://localhost:8080/"
        },
        "id": "2Rcce-f1pfc4",
        "outputId": "ed32f668-e7fa-4409-c63f-86f4fe4b1c95"
      },
      "execution_count": null,
      "outputs": [
        {
          "output_type": "execute_result",
          "data": {
            "text/plain": [
              "<tf.Tensor: shape=(5, 2), dtype=float32, numpy=\n",
              "array([[1., 1.],\n",
              "       [1., 1.],\n",
              "       [1., 1.],\n",
              "       [1., 1.],\n",
              "       [1., 1.]], dtype=float32)>"
            ]
          },
          "metadata": {},
          "execution_count": 13
        }
      ]
    }
  ]
}